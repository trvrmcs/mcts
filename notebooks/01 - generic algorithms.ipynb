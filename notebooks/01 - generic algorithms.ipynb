{
 "cells": [
  {
   "cell_type": "code",
   "execution_count": 2,
   "id": "ade1d0c4-6541-451f-a14a-86e9d3575227",
   "metadata": {},
   "outputs": [
    {
     "data": {
      "application/javascript": [
       "document.title='MCTS'\n"
      ],
      "text/plain": [
       "<IPython.core.display.Javascript object>"
      ]
     },
     "metadata": {},
     "output_type": "display_data"
    }
   ],
   "source": [
    "%%javascript\n",
    "document.title='MCTS'"
   ]
  },
  {
   "cell_type": "markdown",
   "id": "comprehensive-thanks",
   "metadata": {},
   "source": [
    "# Idea 1: generic algorithms"
   ]
  },
  {
   "cell_type": "code",
   "execution_count": 3,
   "id": "breeding-emission",
   "metadata": {},
   "outputs": [
    {
     "data": {
      "text/plain": [
       "True"
      ]
     },
     "execution_count": 3,
     "metadata": {},
     "output_type": "execute_result"
    }
   ],
   "source": [
    "1 < 2"
   ]
  },
  {
   "cell_type": "code",
   "execution_count": 4,
   "id": "creative-argument",
   "metadata": {},
   "outputs": [
    {
     "data": {
      "text/plain": [
       "[' ', 'D', 'E', 'H', 'L', 'L', 'L', 'O', 'O', 'R', 'W']"
      ]
     },
     "execution_count": 4,
     "metadata": {},
     "output_type": "execute_result"
    }
   ],
   "source": [
    "sorted(\"HELLO WORLD\")"
   ]
  },
  {
   "cell_type": "code",
   "execution_count": 5,
   "id": "chicken-windows",
   "metadata": {},
   "outputs": [],
   "source": [
    "class Thing:\n",
    "    def __init__(self, name):\n",
    "        self.name=name\n",
    "        \n",
    "    def __repr__(self):\n",
    "        return f\"Thing {self.name}\"        "
   ]
  },
  {
   "cell_type": "code",
   "execution_count": 6,
   "id": "desirable-reception",
   "metadata": {},
   "outputs": [
    {
     "ename": "TypeError",
     "evalue": "'<' not supported between instances of 'Thing' and 'Thing'",
     "output_type": "error",
     "traceback": [
      "\u001b[0;31m---------------------------------------------------------------------------\u001b[0m",
      "\u001b[0;31mTypeError\u001b[0m                                 Traceback (most recent call last)",
      "\u001b[0;32m<ipython-input-6-f826c723047e>\u001b[0m in \u001b[0;36m<module>\u001b[0;34m\u001b[0m\n\u001b[0;32m----> 1\u001b[0;31m \u001b[0msorted\u001b[0m\u001b[0;34m(\u001b[0m\u001b[0;34m[\u001b[0m\u001b[0mThing\u001b[0m\u001b[0;34m(\u001b[0m\u001b[0;34m'1'\u001b[0m\u001b[0;34m)\u001b[0m\u001b[0;34m,\u001b[0m\u001b[0mThing\u001b[0m\u001b[0;34m(\u001b[0m\u001b[0;34m'2'\u001b[0m\u001b[0;34m)\u001b[0m\u001b[0;34m]\u001b[0m\u001b[0;34m)\u001b[0m\u001b[0;34m\u001b[0m\u001b[0;34m\u001b[0m\u001b[0m\n\u001b[0m",
      "\u001b[0;31mTypeError\u001b[0m: '<' not supported between instances of 'Thing' and 'Thing'"
     ]
    }
   ],
   "source": [
    "sorted([Thing('1'),Thing('2')])"
   ]
  },
  {
   "cell_type": "code",
   "execution_count": 7,
   "id": "confidential-watson",
   "metadata": {},
   "outputs": [
    {
     "ename": "TypeError",
     "evalue": "'<' not supported between instances of 'Thing' and 'Thing'",
     "output_type": "error",
     "traceback": [
      "\u001b[0;31m---------------------------------------------------------------------------\u001b[0m",
      "\u001b[0;31mTypeError\u001b[0m                                 Traceback (most recent call last)",
      "\u001b[0;32m<ipython-input-7-1858b787fa9f>\u001b[0m in \u001b[0;36m<module>\u001b[0;34m\u001b[0m\n\u001b[0;32m----> 1\u001b[0;31m \u001b[0mThing\u001b[0m\u001b[0;34m(\u001b[0m\u001b[0;34m'1'\u001b[0m\u001b[0;34m)\u001b[0m\u001b[0;34m<\u001b[0m \u001b[0mThing\u001b[0m\u001b[0;34m(\u001b[0m\u001b[0;34m'2'\u001b[0m\u001b[0;34m)\u001b[0m\u001b[0;34m\u001b[0m\u001b[0;34m\u001b[0m\u001b[0m\n\u001b[0m",
      "\u001b[0;31mTypeError\u001b[0m: '<' not supported between instances of 'Thing' and 'Thing'"
     ]
    }
   ],
   "source": [
    "Thing('1')< Thing('2')"
   ]
  },
  {
   "cell_type": "code",
   "execution_count": 8,
   "id": "graduate-toilet",
   "metadata": {},
   "outputs": [],
   "source": [
    "class Thing:\n",
    "    def __init__(self, name):\n",
    "        self.name=name\n",
    "    def __repr__(self):\n",
    "        return f\"Thing {self.name}\"\n",
    "    def __lt__(self, other):\n",
    "        return self.name<other.name\n",
    "    "
   ]
  },
  {
   "cell_type": "code",
   "execution_count": 9,
   "id": "raised-blink",
   "metadata": {},
   "outputs": [
    {
     "data": {
      "text/plain": [
       "True"
      ]
     },
     "execution_count": 9,
     "metadata": {},
     "output_type": "execute_result"
    }
   ],
   "source": [
    "Thing('1')< Thing('2')"
   ]
  },
  {
   "cell_type": "code",
   "execution_count": 10,
   "id": "processed-lambda",
   "metadata": {},
   "outputs": [
    {
     "data": {
      "text/plain": [
       "[Thing 1, Thing 2]"
      ]
     },
     "execution_count": 10,
     "metadata": {},
     "output_type": "execute_result"
    }
   ],
   "source": [
    "sorted([Thing('1'),Thing('2')])"
   ]
  },
  {
   "cell_type": "code",
   "execution_count": null,
   "id": "1a741128-5745-4d62-a703-b45e6dafb625",
   "metadata": {},
   "outputs": [],
   "source": []
  }
 ],
 "metadata": {
  "kernelspec": {
   "display_name": "Python 3",
   "language": "python",
   "name": "python3"
  },
  "language_info": {
   "codemirror_mode": {
    "name": "ipython",
    "version": 3
   },
   "file_extension": ".py",
   "mimetype": "text/x-python",
   "name": "python",
   "nbconvert_exporter": "python",
   "pygments_lexer": "ipython3",
   "version": "3.9.3"
  }
 },
 "nbformat": 4,
 "nbformat_minor": 5
}
