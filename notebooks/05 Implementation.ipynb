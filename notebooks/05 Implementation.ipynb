{
 "cells": [
  {
   "cell_type": "markdown",
   "id": "5deb1eca-6963-408d-8f48-b07c98261721",
   "metadata": {},
   "source": [
    "# Implementation"
   ]
  },
  {
   "cell_type": "markdown",
   "id": "7a2b6c97-eab5-4a2a-9738-8f1490b70a72",
   "metadata": {},
   "source": [
    "We now have everything we need for a Python implementation"
   ]
  },
  {
   "cell_type": "markdown",
   "id": "c7e6e316-249b-44cd-8b8f-4ac45e43e503",
   "metadata": {},
   "source": [
    "```python\n",
    "class Node(Generic[StateType]):\n",
    "    def __init__(self, state: StateType) -> None:\n",
    "        self.state = state\n",
    "        self.children: Dict[Command, Node] = {}\n",
    "        self.playouts = 0\n",
    "        self.wins = 0.0\n",
    "```"
   ]
  },
  {
   "cell_type": "markdown",
   "id": "9a3bc11a-9bb9-4ae3-bb63-3f2ca96fc553",
   "metadata": {},
   "source": [
    "```python\n",
    "def mcts(root: Node) -> None:\n",
    "    path = select(root)\n",
    "    path = expand(path)\n",
    "    result = playout(path[-1])\n",
    "    backprop(path, result)\n",
    "```"
   ]
  },
  {
   "cell_type": "code",
   "execution_count": null,
   "id": "536b1248-d695-4d4d-8a6b-67dae8bf5ed5",
   "metadata": {},
   "outputs": [],
   "source": []
  }
 ],
 "metadata": {
  "kernelspec": {
   "display_name": "Python 3",
   "language": "python",
   "name": "python3"
  },
  "language_info": {
   "codemirror_mode": {
    "name": "ipython",
    "version": 3
   },
   "file_extension": ".py",
   "mimetype": "text/x-python",
   "name": "python",
   "nbconvert_exporter": "python",
   "pygments_lexer": "ipython3",
   "version": "3.9.3"
  }
 },
 "nbformat": 4,
 "nbformat_minor": 5
}
